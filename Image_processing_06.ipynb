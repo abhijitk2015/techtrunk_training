{
 "cells": [
  {
   "cell_type": "code",
   "execution_count": 1,
   "metadata": {},
   "outputs": [],
   "source": [
    "import cv2\n",
    "import numpy\n",
    "import matplotlib.pyplot as plt"
   ]
  },
  {
   "cell_type": "code",
   "execution_count": 4,
   "metadata": {},
   "outputs": [
    {
     "data": {
      "image/png": "[encoded data removed]",
      "text/plain": [
       "<Figure size 432x288 with 1 Axes>"
      ]
     },
     "metadata": {
      "needs_background": "light"
     },
     "output_type": "display_data"
    }
   ],
   "source": [
    "img = cv2.imread(r\"C:\\Python36\\images\\demo.jpg\")\n",
    "img2 = cv2.cvtColor(img,cv2.COLOR_BGR2RGB)\n",
    "plt.imshow(img2)\n",
    "plt.show()"
   ]
  },
  {
   "cell_type": "code",
   "execution_count": 5,
   "metadata": {},
   "outputs": [
    {
     "data": {
      "text/plain": [
       "(403, 843, 3)"
      ]
     },
     "execution_count": 5,
     "metadata": {},
     "output_type": "execute_result"
    }
   ],
   "source": [
    "img.shape"
   ]
  },
  {
   "cell_type": "code",
   "execution_count": 30,
   "metadata": {
    "scrolled": true
   },
   "outputs": [],
   "source": [
    "#img = cv2.imread(r\"C:\\Python36\\images\\demo1.jpg\")\n",
    "def get_red(img):\n",
    "    corners=[]\n",
    "    img = cv2.cvtColor(img,cv2.COLOR_BGR2RGB)\n",
    "    for i in range(0,img.shape[0],50):\n",
    "        for j in range(0,img.shape[1],50):\n",
    "            # crop the image to get 50x50 image\n",
    "            slice_img = img[i:i+50,j:j+50,:]\n",
    "            # check for red content in the sliced box\n",
    "            rc = 0\n",
    "            for m in range(slice_img.shape[0]):\n",
    "                for n in range(slice_img.shape[1]):\n",
    "                    if slice_img[m,n,0]>100 and slice_img[m,n,1]<80 and slice_img[m,n,2]<80:\n",
    "                        #red pixel found\n",
    "                        rc = rc + 1\n",
    "            #if there is more than 1000 red pixels, draw a boundary\n",
    "            if rc>500:\n",
    "                corners.append((j,i))\n",
    "    return corners\n",
    "corners = get_red(img)\n",
    "for (i,j) in corners:\n",
    "    cv2.rectangle(img,(i,j),(i+50,j+50),(0,255,255),3)\n",
    "plt.imshow(img)\n",
    "plt.show()"
   ]
  },
  {
   "cell_type": "code",
   "execution_count": 34,
   "metadata": {},
   "outputs": [],
   "source": [
    "img2 = cv2.cvtColor(img,cv2.COLOR_BGR2RGB)\n",
    "%matplotlib qt\n",
    "plt.imshow(img2)\n",
    "plt.show()"
   ]
  },
  {
   "cell_type": "code",
   "execution_count": 33,
   "metadata": {},
   "outputs": [],
   "source": [
    "# accessing the image from the video\n",
    "# Working with Videos in openCV\n",
    "vid = cv2.VideoCapture(0) \n",
    "while True:\n",
    "    ret,img = vid.read()\n",
    "    corners = get_red(img)\n",
    "    for (i,j) in corners:\n",
    "        cv2.rectangle(img,(i,j),(i+50,j+50),(255,0,0),3)\n",
    "    cv2.imshow('img',img)\n",
    "    # create a condition that any keyboard button is pressed and if it is 'q'\n",
    "    if cv2.waitKey(1) & 0xFF ==ord('q'):\n",
    "        break\n",
    "vid.release()    \n",
    "cv2.destroyAllWindows()"
   ]
  },
  {
   "cell_type": "code",
   "execution_count": null,
   "metadata": {},
   "outputs": [],
   "source": []
  }
 ],
 "metadata": {
  "kernelspec": {
   "display_name": "Python 3",
   "language": "python",
   "name": "python3"
  },
  "language_info": {
   "codemirror_mode": {
    "name": "ipython",
    "version": 3
   },
   "file_extension": ".py",
   "mimetype": "text/x-python",
   "name": "python",
   "nbconvert_exporter": "python",
   "pygments_lexer": "ipython3",
   "version": "3.6.7"
  }
 },
 "nbformat": 4,
 "nbformat_minor": 2
}
