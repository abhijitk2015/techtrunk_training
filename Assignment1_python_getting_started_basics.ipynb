{
  "nbformat": 4,
  "nbformat_minor": 0,
  "metadata": {
    "colab": {
      "name": "Assignment1_python_getting_started.ipynb",
      "version": "0.3.2",
      "provenance": []
    },
    "language_info": {
      "codemirror_mode": {
        "name": "ipython",
        "version": 3
      },
      "file_extension": ".py",
      "mimetype": "text/x-python",
      "name": "python",
      "nbconvert_exporter": "python",
      "pygments_lexer": "ipython3",
      "version": "3.6.7"
    },
    "kernelspec": {
      "display_name": "Python 3",
      "language": "python",
      "name": "python3"
    }
  },
  "cells": [
    {
      "cell_type": "markdown",
      "metadata": {
        "tags": [
          "TechTrunk",
          "ventures",
          "Hyderabad",
          "Python",
          "Practice",
          "Artificial",
          "Intelligence",
          "Machine_Learning",
          "AI",
          "Deep_Learning"
        ],
        "id": "Y_-ezuy4b4vB",
        "colab_type": "text"
      },
      "source": [
        "<img src=\"https://raw.githubusercontent.com/techtrunk/training_data/master/techtrunk_logo_classroom.png\">"
      ]
    },
    {
      "cell_type": "markdown",
      "metadata": {
        "tags": [
          "Python",
          "Assignments",
          "Practice",
          "course",
          "python"
        ],
        "id": "f1TWTGqob4vF",
        "colab_type": "text"
      },
      "source": [
        " # Getting Started with Python"
      ]
    },
    {
      "cell_type": "markdown",
      "metadata": {
        "tags": [
          "reverese_number",
          "python_excercise",
          "code",
          "python"
        ],
        "id": "whK_2Ayvb4vI",
        "colab_type": "text"
      },
      "source": [
        "### Assignemnt 1\n",
        "\n",
        "<b><p> Write code which accepts a number from user and returns the reverse of it.</b>\n",
        "    <br> For example \n",
        "    <li> reverse_number(852) will return 258\n",
        "    <li> reverse_number(6242) will return 2426\n",
        "    <li> reverse_number(81) will return 18"
      ]
    },
    {
      "cell_type": "code",
      "metadata": {
        "id": "dWx0iwNAb4vJ",
        "colab_type": "code",
        "colab": {}
      },
      "source": [
        "def reverse_number(num):\n",
        "    # you code goes here --\n",
        "    \n",
        "    \n",
        "    \n",
        "    \n",
        "    \n",
        "    return num"
      ],
      "execution_count": 0,
      "outputs": []
    },
    {
      "cell_type": "markdown",
      "metadata": {
        "tags": [
          "python",
          "excercise"
        ],
        "id": "W8WYSjV3b4vS",
        "colab_type": "text"
      },
      "source": [
        "### Assignemnt 2\n",
        "\n",
        "<b><p> Write a program that computes the net amount of a bank account based a transaction log from console input. The transaction log format is shown as following: </b>\n",
        "    <br> D 100 \n",
        "    <br> W 200\n",
        "    \n",
        "   For example \n",
        "    \n",
        "    D means deposit while W means withdrawal.\n",
        "    Suppose the following input is supplied to the program:\n",
        "    D 300\n",
        "    D 300\n",
        "    W 200\n",
        "    D 100\n",
        "    Then, the output should be:\n",
        "    500\n",
        "\n",
        "\n",
        "Hints: In case of input data being supplied to the question, it should be assumed to be a console input."
      ]
    },
    {
      "cell_type": "code",
      "metadata": {
        "id": "8ngdJGK3b4vU",
        "colab_type": "code",
        "colab": {}
      },
      "source": [
        "count = input(\"Enter the number of transactions: \")\n",
        "for i in range(int(count)):\n",
        "    transaction = input(\"Transaction: \")\n",
        "    # write your code here onwards p.s. you can also change this structure to achieve required objective\n",
        "    \n",
        "    \n",
        "    \n",
        "    \n",
        "    "
      ],
      "execution_count": 0,
      "outputs": []
    },
    {
      "cell_type": "markdown",
      "metadata": {
        "tags": [
          "python",
          "text",
          "excercise",
          "Peter",
          "Norvig"
        ],
        "id": "Lhn6hdtAb4vY",
        "colab_type": "text"
      },
      "source": [
        "### Assignemnt 3\n",
        "\n",
        "<b><p> Download the dataset from  </b>\n",
        "\n",
        " http://norvig.com/ngrams/sowpods.txt \n",
        "\n",
        "    In this exercise, the task is to write a function that picks a random word from a list of words from the downloaded dictionary.\n",
        "\n",
        "<br>This file is Peter Norvig’s compilation of the dictionary of words used in professional Scrabble tournaments. Each line in the file contains a single word.\n",
        "\n",
        "    To solve this exercise, you need to do three things:\n",
        "\n",
        "-\tRead all the lists of words\n",
        "-\tGenerate a random number\n",
        "-\tTake that word\n"
      ]
    },
    {
      "cell_type": "code",
      "metadata": {
        "id": "zh0NwwSab4vZ",
        "colab_type": "code",
        "colab": {}
      },
      "source": [
        "def get_word():\n",
        "    file = open()\n",
        "    # you code goes here\n",
        "    \n",
        "    \n",
        "    \n",
        "    \n",
        "    return word"
      ],
      "execution_count": 0,
      "outputs": []
    },
    {
      "cell_type": "markdown",
      "metadata": {
        "tags": [
          "words",
          "python",
          "code",
          "excercise"
        ],
        "id": "WYbmEOIhb4vd",
        "colab_type": "text"
      },
      "source": [
        "### Assignment 4\n",
        "\n",
        "<br><b>Write a program to compute the frequency of the words from the input. The output should output after sorting the key alphanumerically.</b> \n",
        "\n",
        "<br> Suppose the following input is supplied to the program:<br>\n",
        "<code> “New to Python or choosing between Python 2 and Python 3? Read Python 2 or Python 3.” </code>\n",
        "\n",
        "    Then, the output should be:\n",
        "    2:2\n",
        "    3.:1\n",
        "    3?:1\n",
        "    New:1\n",
        "    Python:5\n",
        "    Read:1\n",
        "    and:1\n",
        "    between:1\n",
        "    choosing:1\n",
        "    or:2\n",
        "    to:1\n",
        "<br><br> \n",
        "Hints: In case of input data being supplied to the question, it should be assumed to be a console input.\n"
      ]
    },
    {
      "cell_type": "code",
      "metadata": {
        "id": "gSqU2xRLb4vf",
        "colab_type": "code",
        "colab": {}
      },
      "source": [
        "text = input(\"Enter your text here: \\n\")\n",
        "# your code goes here\n",
        "\n",
        "\n",
        "\n",
        "print(output)"
      ],
      "execution_count": 0,
      "outputs": []
    },
    {
      "cell_type": "markdown",
      "metadata": {
        "tags": [
          "regular_expression",
          "python",
          "excercise",
          "code"
        ],
        "id": "Bkx3zUSlb4vj",
        "colab_type": "text"
      },
      "source": [
        "### Assignment 5\n",
        "\n",
        "<br><b>A website requires the users to input username and password to register. Write a program to check the validity of password input by users.</b> \n",
        "\n",
        "\n",
        "<br><br>Following are the criteria for checking the password:\n",
        "\n",
        "    a.\tAt least 1 letter between [a-z]\n",
        "    b.\tAt least 1 number between [0-9]\n",
        "    c.\tAt least 1 letter between [A-Z]\n",
        "    d.\tAt least 1 character from [_#@]\n",
        "    e.\tMinimum length of transaction password: 6\n",
        "    f.\tMaximum length of transaction password: 12\n",
        "\n",
        "<br> <p> Your program should accept a sequence of comma separated passwords and will check them according to the above criteria. Passwords that match the criteria are to be printed, each separated by a comma.\n",
        "<br><br>\n",
        "*For Example*\n",
        "<br>If the following passwords are given as input to the program:\n",
        "\n",
        "    ABd1234@1,a F1#,2w3E*,2We3345\n",
        "Then, the output of the program should be:\n",
        "\n",
        "    ABd1234@1\n",
        "\n",
        "<br>Hints: In case of input data being supplied to the question, it should be assumed to be a console input.\n"
      ]
    },
    {
      "cell_type": "code",
      "metadata": {
        "id": "YgE1DnDDb4vl",
        "colab_type": "code",
        "colab": {}
      },
      "source": [
        "# Your solution goes here."
      ],
      "execution_count": 0,
      "outputs": []
    }
  ]
}