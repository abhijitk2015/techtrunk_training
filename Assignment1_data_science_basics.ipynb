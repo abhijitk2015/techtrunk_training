{
 "cells": [
  {
   "cell_type": "markdown",
   "metadata": {},
   "source": [
    "# Excercise 1\n",
    "\n",
    "\tWrite a Python program to create a random array with 1000 elements and compute the average, variance, standard deviation of the array elements.\n"
   ]
  },
  {
   "cell_type": "code",
   "execution_count": null,
   "metadata": {},
   "outputs": [],
   "source": []
  },
  {
   "cell_type": "code",
   "execution_count": null,
   "metadata": {},
   "outputs": [],
   "source": []
  },
  {
   "cell_type": "markdown",
   "metadata": {},
   "source": [
    "# Excercise 2\n",
    "\tRead the iris dataset at https://raw.githubusercontent.com/anshupandey/Machine_Learning_Training/master/datasets/iris.data\n",
    "    \n",
    "you can find more information about the dataset at - \n",
    "https://github.com/anshupandey/Machine_Learning_Training/blob/master/datasets/IRIS_information\n",
    "\n",
    "To do:\n",
    "-\tRead the dataset as csv and then attach the column names to the dataframe. Print the head of data\n",
    "- Print the statistical summary of data.\n",
    "-\tFor each species compute the mean of numerical columns and store it in a stats table like:<br>\n",
    "\n",
    "species    | sepal_length | sepal_width | petal_length | petal_width<br>\n",
    "setosa     | \t5.006     |   3.428 \t|   1.462      |\t 0.246 <br>\n",
    "versicolor |    5.936 \t  |   2.770 \t|   4.260      |     1.326 <br>\n",
    "virginica  |    6.588 \t  |   2.974\t    |   5.552\t   |     2.026<br>\n",
    "\n"
   ]
  },
  {
   "cell_type": "code",
   "execution_count": null,
   "metadata": {},
   "outputs": [],
   "source": []
  },
  {
   "cell_type": "code",
   "execution_count": null,
   "metadata": {},
   "outputs": [],
   "source": []
  },
  {
   "cell_type": "markdown",
   "metadata": {},
   "source": [
    "# Excercise 3\n",
    "\tLoad the dataset “messy_stock_data.tsv” from datasets folder, the dataset is consisting of monthly stock prices in 2015 for AAPL, GOOG, and IBM.\n",
    "-\tLoad the dataset using pandas, make sure, you take care that values are tab separated.\n",
    "-\tplot the 'Month' column on the x-axis and the AAPL and IBM prices on the y-axis using a list of column names.\n"
   ]
  },
  {
   "cell_type": "code",
   "execution_count": 1,
   "metadata": {},
   "outputs": [],
   "source": [
    "import pandas\n"
   ]
  },
  {
   "cell_type": "code",
   "execution_count": 12,
   "metadata": {},
   "outputs": [
    {
     "data": {
      "text/html": [
       "<div>\n",
       "<style scoped>\n",
       "    .dataframe tbody tr th:only-of-type {\n",
       "        vertical-align: middle;\n",
       "    }\n",
       "\n",
       "    .dataframe tbody tr th {\n",
       "        vertical-align: top;\n",
       "    }\n",
       "\n",
       "    .dataframe thead th {\n",
       "        text-align: right;\n",
       "    }\n",
       "</style>\n",
       "<table border=\"1\" class=\"dataframe\">\n",
       "  <thead>\n",
       "    <tr style=\"text-align: right;\">\n",
       "      <th></th>\n",
       "      <th>name</th>\n",
       "      <th>Jan</th>\n",
       "      <th>Feb</th>\n",
       "      <th>Mar</th>\n",
       "      <th>Apr</th>\n",
       "      <th>May</th>\n",
       "      <th>Jun</th>\n",
       "      <th>Jul</th>\n",
       "      <th>Aug</th>\n",
       "      <th>Sep</th>\n",
       "      <th>Oct</th>\n",
       "      <th>Nov</th>\n",
       "      <th>Dec</th>\n",
       "    </tr>\n",
       "    <tr>\n",
       "      <th>name</th>\n",
       "      <th></th>\n",
       "      <th></th>\n",
       "      <th></th>\n",
       "      <th></th>\n",
       "      <th></th>\n",
       "      <th></th>\n",
       "      <th></th>\n",
       "      <th></th>\n",
       "      <th></th>\n",
       "      <th></th>\n",
       "      <th></th>\n",
       "      <th></th>\n",
       "      <th></th>\n",
       "    </tr>\n",
       "  </thead>\n",
       "  <tbody>\n",
       "    <tr>\n",
       "      <th>IBM</th>\n",
       "      <td>IBM</td>\n",
       "      <td>156.08</td>\n",
       "      <td>160.01</td>\n",
       "      <td>159.81</td>\n",
       "      <td>165.22</td>\n",
       "      <td>172.25</td>\n",
       "      <td>167.15</td>\n",
       "      <td>164.75</td>\n",
       "      <td>152.77</td>\n",
       "      <td>145.36</td>\n",
       "      <td>146.11</td>\n",
       "      <td>137.21</td>\n",
       "      <td>137.96</td>\n",
       "    </tr>\n",
       "    <tr>\n",
       "      <th>MSFT</th>\n",
       "      <td>MSFT</td>\n",
       "      <td>45.51</td>\n",
       "      <td>43.08</td>\n",
       "      <td>42.13</td>\n",
       "      <td>43.47</td>\n",
       "      <td>47.53</td>\n",
       "      <td>45.96</td>\n",
       "      <td>45.61</td>\n",
       "      <td>45.51</td>\n",
       "      <td>43.56</td>\n",
       "      <td>48.70</td>\n",
       "      <td>53.88</td>\n",
       "      <td>55.40</td>\n",
       "    </tr>\n",
       "    <tr>\n",
       "      <th>GOOGLE</th>\n",
       "      <td>GOOGLE</td>\n",
       "      <td>512.42</td>\n",
       "      <td>537.99</td>\n",
       "      <td>559.72</td>\n",
       "      <td>540.50</td>\n",
       "      <td>535.24</td>\n",
       "      <td>532.92</td>\n",
       "      <td>590.09</td>\n",
       "      <td>636.84</td>\n",
       "      <td>617.93</td>\n",
       "      <td>663.59</td>\n",
       "      <td>735.39</td>\n",
       "      <td>755.35</td>\n",
       "    </tr>\n",
       "    <tr>\n",
       "      <th>APPLE</th>\n",
       "      <td>APPLE</td>\n",
       "      <td>110.64</td>\n",
       "      <td>125.43</td>\n",
       "      <td>125.97</td>\n",
       "      <td>127.29</td>\n",
       "      <td>128.76</td>\n",
       "      <td>127.81</td>\n",
       "      <td>125.34</td>\n",
       "      <td>113.39</td>\n",
       "      <td>112.80</td>\n",
       "      <td>113.36</td>\n",
       "      <td>118.16</td>\n",
       "      <td>111.73</td>\n",
       "    </tr>\n",
       "  </tbody>\n",
       "</table>\n",
       "</div>"
      ],
      "text/plain": [
       "          name     Jan     Feb     Mar     Apr     May     Jun     Jul  \\\n",
       "name                                                                     \n",
       "IBM        IBM  156.08  160.01  159.81  165.22  172.25  167.15  164.75   \n",
       "MSFT      MSFT   45.51   43.08   42.13   43.47   47.53   45.96   45.61   \n",
       "GOOGLE  GOOGLE  512.42  537.99  559.72  540.50  535.24  532.92  590.09   \n",
       "APPLE    APPLE  110.64  125.43  125.97  127.29  128.76  127.81  125.34   \n",
       "\n",
       "           Aug     Sep     Oct     Nov     Dec  \n",
       "name                                            \n",
       "IBM     152.77  145.36  146.11  137.21  137.96  \n",
       "MSFT     45.51   43.56   48.70   53.88   55.40  \n",
       "GOOGLE  636.84  617.93  663.59  735.39  755.35  \n",
       "APPLE   113.39  112.80  113.36  118.16  111.73  "
      ]
     },
     "execution_count": 12,
     "metadata": {},
     "output_type": "execute_result"
    }
   ],
   "source": []
  },
  {
   "cell_type": "markdown",
   "metadata": {},
   "source": [
    "# Excercise 4\n",
    "Load the datafile \"regiment.csv\" and obtain the following results.\n",
    "The dataset contains the data of 12 soldiers from 3 regiments and 3 companies each. they were sent for training and their score before the training and after the training is provided.\n",
    "    \n",
    "   1. Which regiment is the most performing regiment after training.\n",
    "   2. Which company of which regiment is best company after training.\n",
    "   3. create a column with name \"learning\" which shows the amount of learning done by the soldier.\n",
    "   4. which company of which regiment has made maximum improvement with the training?\n",
    "   5. Create a new column which shows the improvement made  by the soldier with respect to average improvement made by soldiers of RESPECTIVE REGIMENT. (you will need to use groupby operation and lambda function).\n",
    "   6. Create 500 dates from 1989-01-01, choose 12 random dates and assign it as dateof birth for the soldiers. you need to create new column with name \"dob\" in the existing dataframe.\n",
    "   7. Write code to create a new column \"age\" using the previously created column \"dob\"\n",
    "   \n",
    "    "
   ]
  },
  {
   "cell_type": "code",
   "execution_count": null,
   "metadata": {},
   "outputs": [],
   "source": []
  },
  {
   "cell_type": "code",
   "execution_count": null,
   "metadata": {},
   "outputs": [],
   "source": []
  }
 ],
 "metadata": {
  "kernelspec": {
   "display_name": "Python 3",
   "language": "python",
   "name": "python3"
  },
  "language_info": {
   "codemirror_mode": {
    "name": "ipython",
    "version": 3
   },
   "file_extension": ".py",
   "mimetype": "text/x-python",
   "name": "python",
   "nbconvert_exporter": "python",
   "pygments_lexer": "ipython3",
   "version": "3.6.7"
  }
 },
 "nbformat": 4,
 "nbformat_minor": 2
}
