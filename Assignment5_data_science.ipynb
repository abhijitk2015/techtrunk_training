{
 "cells": [
  {
   "cell_type": "markdown",
   "metadata": {},
   "source": [
    "# Excercise 1\n",
    "\n",
    "Use the dataset ‘gm_2008_region.csv’ dataset present in the dataset folder collected from\n",
    "https://www.gapminder.org/data/ \n",
    "The objective is to have good model for predictig life expectancy.\n",
    "you can load data from - \n",
    "https://raw.githubusercontent.com/anshupandey/Machine_Learning_Training/master/datasets/gm_2008_region.csv\n",
    "\n",
    "You're going to use a linear regression model to try to predict the life expectancy in a given country.\n",
    "\n",
    "- Perform Exploratory analysis on this dataset and comment your result about how the life expectancy depends on various parameters based on your analysis. (Minimum 5 observations, include stats and graphs) Comment your results based on correlation analysis\n",
    "- Since the target variable here is quantitative, this is a regression problem. To begin, you will fit a linear regression with just one feature: 'fertility', which is the average number of children a woman in a given country gives birth to.\n",
    "\n",
    "-\tGenerate a scatter plot 'fertility' on the x-axis and 'life' on the y-axis. As you can see, there is a strongly negative correlation, so a linear regression should be able to capture this trend. Your job is to fit a linear regression and then predict the life expectancy, overlaying these predicted values on the plot to generate a regression line. \n",
    "-\tBuild the regression model considering all relevant features based on statistical analysis performed earlier. Use Linear Regression here.\n",
    "-\tAlso compute and print the R square score.\n",
    "-\tCompute the RMSE value\n",
    "-\tDo we need to uses Decision Tree here for regression model or not?\n",
    "    if yes, build a regression model using decision tree and compare the \n",
    "    performance.\n",
    "-\tApply 5-fold cross Validation on the dataset and take the average.\n"
   ]
  },
  {
   "cell_type": "code",
   "execution_count": 1,
   "metadata": {},
   "outputs": [],
   "source": [
    "import pandas\n"
   ]
  },
  {
   "cell_type": "code",
   "execution_count": 2,
   "metadata": {},
   "outputs": [],
   "source": [
    "# Analyse the structure of data,visualize first 5 rows\n"
   ]
  },
  {
   "cell_type": "code",
   "execution_count": null,
   "metadata": {},
   "outputs": [],
   "source": []
  },
  {
   "cell_type": "code",
   "execution_count": 3,
   "metadata": {},
   "outputs": [],
   "source": [
    "# statistical analysis\n"
   ]
  },
  {
   "cell_type": "code",
   "execution_count": null,
   "metadata": {},
   "outputs": [],
   "source": []
  },
  {
   "cell_type": "code",
   "execution_count": null,
   "metadata": {},
   "outputs": [],
   "source": []
  },
  {
   "cell_type": "code",
   "execution_count": null,
   "metadata": {},
   "outputs": [],
   "source": []
  },
  {
   "cell_type": "code",
   "execution_count": null,
   "metadata": {},
   "outputs": [],
   "source": []
  },
  {
   "cell_type": "code",
   "execution_count": null,
   "metadata": {},
   "outputs": [],
   "source": []
  },
  {
   "cell_type": "code",
   "execution_count": null,
   "metadata": {},
   "outputs": [],
   "source": []
  },
  {
   "cell_type": "code",
   "execution_count": null,
   "metadata": {},
   "outputs": [],
   "source": []
  },
  {
   "cell_type": "code",
   "execution_count": null,
   "metadata": {},
   "outputs": [],
   "source": []
  },
  {
   "cell_type": "code",
   "execution_count": null,
   "metadata": {},
   "outputs": [],
   "source": [
    "\n"
   ]
  },
  {
   "cell_type": "code",
   "execution_count": null,
   "metadata": {},
   "outputs": [],
   "source": []
  },
  {
   "cell_type": "code",
   "execution_count": null,
   "metadata": {},
   "outputs": [],
   "source": []
  },
  {
   "cell_type": "code",
   "execution_count": null,
   "metadata": {},
   "outputs": [],
   "source": []
  },
  {
   "cell_type": "markdown",
   "metadata": {},
   "source": [
    "##### Check following links which shows some work on this dataset - \n",
    "https://www.kaggle.com/hassanamin/exploring-preprocessing-steps \n",
    "\n",
    "https://www.kaggle.com/alvinrindra/supervised-learning-with-gapminder\n",
    "    \n",
    "https://www.kaggle.com/kerneler/starter-gm2008-62b2c164-d"
   ]
  },
  {
   "cell_type": "code",
   "execution_count": null,
   "metadata": {},
   "outputs": [],
   "source": []
  },
  {
   "cell_type": "code",
   "execution_count": null,
   "metadata": {},
   "outputs": [],
   "source": []
  },
  {
   "cell_type": "markdown",
   "metadata": {},
   "source": [
    "# Extra Step\n",
    "Based on above Problem set in this exercise, you will practice fitting ridge regression models over a range of different alphas, and plot cross-validated R2 scores for each, as well as standard error for each alpha.\n"
   ]
  },
  {
   "cell_type": "code",
   "execution_count": null,
   "metadata": {},
   "outputs": [],
   "source": []
  },
  {
   "cell_type": "code",
   "execution_count": null,
   "metadata": {},
   "outputs": [],
   "source": []
  },
  {
   "cell_type": "code",
   "execution_count": null,
   "metadata": {},
   "outputs": [],
   "source": []
  },
  {
   "cell_type": "code",
   "execution_count": null,
   "metadata": {},
   "outputs": [],
   "source": []
  },
  {
   "cell_type": "markdown",
   "metadata": {},
   "source": [
    "you can skip this ****\n",
    "\n",
    "# Excercise 2\n",
    "From below website download datasets - \n",
    "https://www.gapminder.org/data/ \n",
    "    \n",
    "1. Mobile Cellular Subscription\n",
    "2. Telephone fixed line subscription\n",
    "Take a subset of data from 2005 onwards\n",
    "Perform following research - \n",
    "\n",
    "1. Top Ten countries with highest number of subscriptions in mobile and telephone in 2017\n",
    "2. Calculate the growth in the subscription improvement for every country which may be calculated as the present year subscription - previous year subscription\n",
    "3. which of the countries are best markets for cellular susbcriptions in coming years.\n",
    "    "
   ]
  },
  {
   "cell_type": "code",
   "execution_count": null,
   "metadata": {},
   "outputs": [],
   "source": []
  },
  {
   "cell_type": "code",
   "execution_count": null,
   "metadata": {},
   "outputs": [],
   "source": []
  },
  {
   "cell_type": "code",
   "execution_count": null,
   "metadata": {},
   "outputs": [],
   "source": []
  },
  {
   "cell_type": "code",
   "execution_count": null,
   "metadata": {},
   "outputs": [],
   "source": []
  },
  {
   "cell_type": "code",
   "execution_count": null,
   "metadata": {},
   "outputs": [],
   "source": []
  },
  {
   "cell_type": "code",
   "execution_count": null,
   "metadata": {},
   "outputs": [],
   "source": []
  },
  {
   "cell_type": "code",
   "execution_count": null,
   "metadata": {},
   "outputs": [],
   "source": []
  },
  {
   "cell_type": "code",
   "execution_count": null,
   "metadata": {},
   "outputs": [],
   "source": []
  }
 ],
 "metadata": {
  "kernelspec": {
   "display_name": "Python 3",
   "language": "python",
   "name": "python3"
  },
  "language_info": {
   "codemirror_mode": {
    "name": "ipython",
    "version": 3
   },
   "file_extension": ".py",
   "mimetype": "text/x-python",
   "name": "python",
   "nbconvert_exporter": "python",
   "pygments_lexer": "ipython3",
   "version": "3.6.7"
  }
 },
 "nbformat": 4,
 "nbformat_minor": 2
}
