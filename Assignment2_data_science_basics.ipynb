{
 "cells": [
  {
   "cell_type": "markdown",
   "metadata": {},
   "source": [
    "# Excercise 1\n",
    "\n",
    "    Navigate to https://coinmarketcap.com/ \n",
    "    This website updates the data of all cryptocurrencues everyday. navigate to bitcoin cryptocurrency.\n",
    "    from historical data tab, we need to get data using pandas.\n",
    "    1. From historical data copy url and use pandas.read_html to get the one month data as dataframe.\n",
    "    2. export data as bitcoin.csv\n",
    "    3. plot the bitcoin prices change\n",
    "    4. load similar way, ehterium data and export and plot\n",
    "    5. compare both cryptocurrencies and comment your observation. \n",
    "    "
   ]
  },
  {
   "cell_type": "code",
   "execution_count": null,
   "metadata": {},
   "outputs": [],
   "source": []
  },
  {
   "cell_type": "code",
   "execution_count": null,
   "metadata": {},
   "outputs": [],
   "source": []
  },
  {
   "cell_type": "markdown",
   "metadata": {},
   "source": [
    "# Excercise 2\n",
    "\tIn this exercise, you'll investigate the probabilities of life expectancy in countries around the world. This dataset contains life expectancy for persons born each year from 1800 to 2015. Since country names change or results are not reported, not every country has values.\n",
    "-\tLoad the dataset “life_expectancy_at_birth.csv” using pandas.\n",
    "-\tApply basic statistical Analysis on this data and comment your observations.\n",
    "-\tDetermine the number of countries reported in 2015.\n",
    "-\tCompute the 5th and 95th percentiles of life expectancy over the entire dataset.\n",
    "-\tUse seaborn to make a box plot of life expectancy every 50 years from 1800 to 2000. Notice the large change in the distributions over this period.\n"
   ]
  },
  {
   "cell_type": "code",
   "execution_count": null,
   "metadata": {},
   "outputs": [],
   "source": []
  },
  {
   "cell_type": "code",
   "execution_count": null,
   "metadata": {},
   "outputs": [],
   "source": []
  },
  {
   "cell_type": "code",
   "execution_count": null,
   "metadata": {},
   "outputs": [],
   "source": []
  },
  {
   "cell_type": "markdown",
   "metadata": {},
   "source": [
    "# Excercise 3\n",
    "\tUse IRIS Dataset from sklearn, or download it form UCI \n",
    "Make a bee swarm plot of the iris petal lengths. Your x-axis should contain each of the three species, and the y-axis the petal lengths.\n",
    "-\tcompute the percentiles of petal length of Iris versicolor.\n",
    "-\tMaking a box plot for the petal lengths is unnecessary because the iris data set is not too large and the bee swarm plot works fine. However, it is always good to get some practice. Make a box plot of the iris petal lengths. \n",
    "-\tcompute the variance of the petal length of Iris versicolor.\n",
    "-\tthe standard deviation is the square root of the variance. Verify this by manually doing the square root of variance calculated earlier with calculating Standard Deviation directly using the function.\n",
    "-\tMake a scatter plot of the petal length and width measurements of Anderson's Iris versicolor flowers. If the flower scales (that is, it preserves its proportion as it grows), we would expect the length and width to be correlated.\n",
    "-\tPerform correlation analysis and comment your results\n"
   ]
  },
  {
   "cell_type": "code",
   "execution_count": null,
   "metadata": {},
   "outputs": [],
   "source": []
  },
  {
   "cell_type": "code",
   "execution_count": null,
   "metadata": {},
   "outputs": [],
   "source": []
  },
  {
   "cell_type": "code",
   "execution_count": null,
   "metadata": {},
   "outputs": [],
   "source": []
  },
  {
   "cell_type": "markdown",
   "metadata": {},
   "source": [
    "# Excercise 4\n",
    "\tUse the Breast Cancer Wisonsin data set from UCI machine learning Repository and perform exploratory analysis.\n",
    "Here you have 16 missing values which you will have to replace with suitable value(mean/mode/median/0).\n",
    "Comment on the most important features by observation using multiplt techniques.\n",
    "Suggested techniques - \n",
    "1. Variance Filtering\n",
    "2. Correlation analysis\n",
    "3. Probability Density analysis\n",
    "4. ANOVA - F Score \n",
    "5. Mutual Information\n"
   ]
  },
  {
   "cell_type": "code",
   "execution_count": null,
   "metadata": {},
   "outputs": [],
   "source": []
  },
  {
   "cell_type": "code",
   "execution_count": null,
   "metadata": {},
   "outputs": [],
   "source": []
  },
  {
   "cell_type": "code",
   "execution_count": null,
   "metadata": {},
   "outputs": [],
   "source": []
  },
  {
   "cell_type": "code",
   "execution_count": null,
   "metadata": {},
   "outputs": [],
   "source": []
  }
 ],
 "metadata": {
  "kernelspec": {
   "display_name": "Python 3",
   "language": "python",
   "name": "python3"
  },
  "language_info": {
   "codemirror_mode": {
    "name": "ipython",
    "version": 3
   },
   "file_extension": ".py",
   "mimetype": "text/x-python",
   "name": "python",
   "nbconvert_exporter": "python",
   "pygments_lexer": "ipython3",
   "version": "3.6.7"
  }
 },
 "nbformat": 4,
 "nbformat_minor": 2
}
