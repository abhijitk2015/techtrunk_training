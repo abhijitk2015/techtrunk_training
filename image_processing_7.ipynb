{
 "cells": [
  {
   "cell_type": "code",
   "execution_count": 1,
   "metadata": {},
   "outputs": [],
   "source": [
    "import cv2\n",
    "import numpy\n",
    "import matplotlib.pyplot as plt"
   ]
  },
  {
   "cell_type": "code",
   "execution_count": 11,
   "metadata": {},
   "outputs": [],
   "source": [
    "img = cv2.imread(r\"C:\\Python36\\images\\happy3.jpg\")\n",
    "fd = cv2.CascadeClassifier(r\"C:\\Python36\\images\\haarcascade_frontalface_alt.xml\")\n",
    "corners = fd.detectMultiScale(img,1.5,1)\n",
    "for (i,j,w,h) in corners:\n",
    "    cv2.rectangle(img,(i,j),(i+w,j+h),(0,255,0),3)\n",
    "cv2.imshow('img',img)\n",
    "cv2.waitKey(0)\n",
    "cv2.destroyAllWindows()"
   ]
  },
  {
   "cell_type": "code",
   "execution_count": 13,
   "metadata": {},
   "outputs": [],
   "source": [
    "fd = cv2.CascadeClassifier(r\"C:\\Python36\\images\\haarcascade_frontalface_alt.xml\")\n",
    "vid = cv2.VideoCapture(0)\n",
    "while True:\n",
    "    ret,img = vid.read()\n",
    "    corners = fd.detectMultiScale(img,1.3,5)\n",
    "    for (i,j,w,h) in corners:\n",
    "        cv2.rectangle(img,(i,j),(i+w,j+h),(0,0,255),3)\n",
    "    cv2.imshow('img',img)\n",
    "    if cv2.waitKey(1) & 0xFF==ord('q'):\n",
    "        break\n",
    "vid.release()\n",
    "cv2.destroyAllWindows()\n",
    "    "
   ]
  },
  {
   "cell_type": "code",
   "execution_count": null,
   "metadata": {},
   "outputs": [],
   "source": []
  }
 ],
 "metadata": {
  "kernelspec": {
   "display_name": "Python 3",
   "language": "python",
   "name": "python3"
  },
  "language_info": {
   "codemirror_mode": {
    "name": "ipython",
    "version": 3
   },
   "file_extension": ".py",
   "mimetype": "text/x-python",
   "name": "python",
   "nbconvert_exporter": "python",
   "pygments_lexer": "ipython3",
   "version": "3.6.7"
  }
 },
 "nbformat": 4,
 "nbformat_minor": 2
}
