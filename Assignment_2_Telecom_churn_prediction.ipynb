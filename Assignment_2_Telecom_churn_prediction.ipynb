{
 "cells": [
  {
   "cell_type": "markdown",
   "metadata": {},
   "source": [
    "# Project Overview"
   ]
  },
  {
   "cell_type": "markdown",
   "metadata": {},
   "source": [
    "###  Project - Predicting Customer Churn using Machine Learning\n",
    "\n",
    "Customer churn is when a company’s customers stop doing business with that company. Businesses are very keen on measuring churn because keeping an existing customer is far less expensive than acquiring a new customer. New business involves working leads through a sales funnel, using marketing and sales budgets to gain additional customers. Existing customers will often have a higher volume of service consumption and can generate additional customer referrals.\n",
    "\n",
    "Preventing customer churn is critically important to the telecommunications sector, as the barriers to entry for switching services are so low."
   ]
  },
  {
   "cell_type": "markdown",
   "metadata": {},
   "source": [
    "# Dataset Overview"
   ]
  },
  {
   "cell_type": "markdown",
   "metadata": {},
   "source": [
    "### Context\n",
    "\n",
    "Analysis of Telecom company customer database, with information about the attributes of its customers.The intention is to predict customers with greater potential to leave the company.\n",
    "\n",
    "### Content\n",
    "\n",
    "Each row represents a customer, each column contains customer’s attributes described on the column Metadata.\n",
    "\n",
    "### The data set includes information about:\n",
    "\n",
    "* Customers who left within the last month – the column is called Churn\n",
    "\n",
    "* Services that each customer has signed up for – phone, multiple lines, internet, online security, online backup, device protection, tech support, and streaming TV and movies\n",
    "\n",
    "* Customer account information – how long they’ve been a customer, contract, payment method, paperless billing, monthly charges, and total charges\n",
    "\n",
    "* Demographic info about customers – gender, age range, and if they have partners and dependents"
   ]
  },
  {
   "cell_type": "markdown",
   "metadata": {},
   "source": [
    "# Data preparation"
   ]
  },
  {
   "cell_type": "code",
   "execution_count": null,
   "metadata": {
    "_cell_guid": "b1076dfc-b9ad-4769-8c92-a6c4dae69d19",
    "_uuid": "8f2839f25d086af736a60e9eeb907d3b93b6e0e5"
   },
   "outputs": [],
   "source": [
    "import numpy as np \n",
    "import pandas as pd \n",
    "import matplotlib.pyplot as plt\n",
    "%matplotlib inline\n",
    "import seaborn as sns"
   ]
  },
  {
   "cell_type": "code",
   "execution_count": null,
   "metadata": {
    "_cell_guid": "79c7e3d0-c299-4dcb-8224-4455121ee9b0",
    "_uuid": "d629ff2d2480ee46fbb7e2d37f6b5fab8052498a"
   },
   "outputs": [],
   "source": [
    "# Write code to read the dataset and mention index_col=\"customerID\"\n",
    "\n"
   ]
  },
  {
   "cell_type": "markdown",
   "metadata": {},
   "source": [
    "# What does the data look like?"
   ]
  },
  {
   "cell_type": "code",
   "execution_count": null,
   "metadata": {
    "_uuid": "a3e2a5ee4bf19398a451678330035fd3ca483583"
   },
   "outputs": [],
   "source": [
    "df.head(15).T"
   ]
  },
  {
   "cell_type": "code",
   "execution_count": null,
   "metadata": {
    "_uuid": "8c8183e9787c05f07208fe742671615548344cb0"
   },
   "outputs": [],
   "source": [
    "df.info()"
   ]
  },
  {
   "cell_type": "markdown",
   "metadata": {
    "_uuid": "055b68a17f9464e282380dcc41089ac19a5a187d"
   },
   "source": [
    "**Here we can see that Total Charges is an object variable.\n",
    "Let's Change it to float**"
   ]
  },
  {
   "cell_type": "code",
   "execution_count": null,
   "metadata": {
    "_uuid": "c8e55f93c2749b36f9141448ea2f6d542514f14e"
   },
   "outputs": [],
   "source": [
    "# We need to convert the Total Charges from object type to Numeric\n",
    "df['TotalCharges'] = df['TotalCharges'].replace(r'\\s+', np.nan, regex=True)\n",
    "df['TotalCharges'] = pd.to_numeric(df['TotalCharges'])"
   ]
  },
  {
   "cell_type": "code",
   "execution_count": null,
   "metadata": {
    "_uuid": "4dc0dc8a389d8fb090d887a4577f6bce719d1024"
   },
   "outputs": [],
   "source": [
    "df.info()"
   ]
  },
  {
   "cell_type": "markdown",
   "metadata": {
    "_uuid": "0e8be16c774bc1606acb86496c20788ba8cac9d2"
   },
   "source": [
    "# Data Exploration\n",
    "\n"
   ]
  },
  {
   "cell_type": "code",
   "execution_count": null,
   "metadata": {
    "_uuid": "0daa5207704248d18a4ab1a2eaaa5d0f6d1c7117"
   },
   "outputs": [],
   "source": [
    "df.Partner.value_counts(normalize=True).plot(kind='bar')"
   ]
  },
  {
   "cell_type": "code",
   "execution_count": null,
   "metadata": {},
   "outputs": [],
   "source": [
    "# Comment your analysis here-\n",
    "\n",
    "\n"
   ]
  },
  {
   "cell_type": "code",
   "execution_count": null,
   "metadata": {
    "_uuid": "fe4e61affdaafca52326964e80a658e6ae62d457"
   },
   "outputs": [],
   "source": [
    "df.SeniorCitizen.value_counts(normalize=True).plot(kind='bar')"
   ]
  },
  {
   "cell_type": "code",
   "execution_count": null,
   "metadata": {},
   "outputs": [],
   "source": [
    "# Comment your analysis here-\n",
    "\n",
    "\n"
   ]
  },
  {
   "cell_type": "code",
   "execution_count": null,
   "metadata": {
    "_uuid": "8352d875c3864104133f0450714dd5b89e8ee3ba"
   },
   "outputs": [],
   "source": [
    "# Similar to above way write code for drawing the value counts for gender\n",
    "# i.e. countplot for gender column\n",
    "\n",
    "\n"
   ]
  },
  {
   "cell_type": "code",
   "execution_count": null,
   "metadata": {},
   "outputs": [],
   "source": [
    "# Comment your analysis here-\n",
    "\n",
    "\n"
   ]
  },
  {
   "cell_type": "code",
   "execution_count": null,
   "metadata": {
    "_uuid": "9ff4682e404fe89ac76f2e39fdd2740bb0b9e490"
   },
   "outputs": [],
   "source": [
    "# Similar to above way write code for drawing the value counts for Tenure\n",
    "# i.e. countplot for Tenure column\n",
    "\n",
    "\n"
   ]
  },
  {
   "cell_type": "code",
   "execution_count": null,
   "metadata": {},
   "outputs": [],
   "source": [
    "# Comment your analysis here-\n",
    "\n",
    "\n"
   ]
  },
  {
   "cell_type": "code",
   "execution_count": null,
   "metadata": {
    "_uuid": "74b2b941f88b2340315626daf817a142d97ccb5e"
   },
   "outputs": [],
   "source": [
    "df.PhoneService.value_counts(normalize=True).plot(kind='bar')"
   ]
  },
  {
   "cell_type": "code",
   "execution_count": null,
   "metadata": {},
   "outputs": [],
   "source": [
    "# Comment your analysis here-\n",
    "\n",
    "\n"
   ]
  },
  {
   "cell_type": "code",
   "execution_count": null,
   "metadata": {
    "_uuid": "55638d668ba1374682979f7801c68c4ad0301941"
   },
   "outputs": [],
   "source": [
    "df.MultipleLines.value_counts(normalize=True).plot(kind='bar')"
   ]
  },
  {
   "cell_type": "code",
   "execution_count": null,
   "metadata": {},
   "outputs": [],
   "source": [
    "# Comment your analysis here-\n",
    "\n",
    "\n"
   ]
  },
  {
   "cell_type": "code",
   "execution_count": null,
   "metadata": {
    "_uuid": "64d639430cd742b67d17e95327cca9e9675bd65f"
   },
   "outputs": [],
   "source": [
    "df.InternetService.value_counts(normalize=True).plot(kind='bar')"
   ]
  },
  {
   "cell_type": "code",
   "execution_count": null,
   "metadata": {},
   "outputs": [],
   "source": [
    "# Comment your analysis here-\n",
    "\n",
    "\n"
   ]
  },
  {
   "cell_type": "code",
   "execution_count": null,
   "metadata": {
    "_uuid": "ff18e0e77634c3594f6ed1c155775ec7b6b864f9"
   },
   "outputs": [],
   "source": [
    "df.Contract.value_counts(normalize=True).plot(kind='bar')"
   ]
  },
  {
   "cell_type": "code",
   "execution_count": null,
   "metadata": {},
   "outputs": [],
   "source": [
    "# Comment your analysis here-\n",
    "\n",
    "\n"
   ]
  },
  {
   "cell_type": "code",
   "execution_count": null,
   "metadata": {
    "_uuid": "a0eb8c7df52607c8422550178adea076b77b0d49"
   },
   "outputs": [],
   "source": [
    "# Similar to above way write code for drawing the value counts for paymentmethod\n",
    "# i.e. countplot for paymentmethod column\n",
    "\n",
    "\n"
   ]
  },
  {
   "cell_type": "code",
   "execution_count": null,
   "metadata": {},
   "outputs": [],
   "source": [
    "# Comment your analysis here-\n",
    "\n",
    "\n"
   ]
  },
  {
   "cell_type": "markdown",
   "metadata": {
    "_uuid": "8a882958020503ca2c07f7f067c034b50f7056fd"
   },
   "source": [
    "**We will Visualize other variables as we will perform our Analysis.**"
   ]
  },
  {
   "cell_type": "markdown",
   "metadata": {
    "_uuid": "369b27c72089aac0e6143ae21c32b775957335fc"
   },
   "source": [
    "**Now Let's Plot variables with respect to Our Target Variable.**"
   ]
  },
  {
   "cell_type": "code",
   "execution_count": null,
   "metadata": {
    "_uuid": "d7cc5f86963d19b22cb6e6a26df78c2ce95c8e73"
   },
   "outputs": [],
   "source": [
    "# First let's see Our Target Variable\n",
    "df.Churn.value_counts(normalize=True).plot(kind='bar');\n"
   ]
  },
  {
   "cell_type": "code",
   "execution_count": null,
   "metadata": {},
   "outputs": [],
   "source": [
    "# Comment your analysis here-\n",
    "\n",
    "\n"
   ]
  },
  {
   "cell_type": "code",
   "execution_count": null,
   "metadata": {
    "_uuid": "cf05ba80fb2f949c36fa49ae51ff8c58f51635e8"
   },
   "outputs": [],
   "source": [
    "# Now Let's Start Comparing.\n",
    "# Gender Vs Churn\n",
    "print(pd.crosstab(df.gender,df.Churn,margins=True))\n",
    "pd.crosstab(df.gender,df.Churn,margins=True).plot(kind='bar',figsize=(7,5));"
   ]
  },
  {
   "cell_type": "code",
   "execution_count": null,
   "metadata": {
    "_uuid": "a3d2d0289f2edecc2b816763b6a8b8425f6155af"
   },
   "outputs": [],
   "source": [
    "print('Percent of Females that Left the Company {0}'.format((939/1869)*100))\n",
    "print('Percent of Males that Left the Company {0}'.format((930/1869)*100))     "
   ]
  },
  {
   "cell_type": "code",
   "execution_count": null,
   "metadata": {},
   "outputs": [],
   "source": [
    "# Comment your analysis here-\n",
    "\n",
    "\n"
   ]
  },
  {
   "cell_type": "markdown",
   "metadata": {
    "_uuid": "1681d8292fe10c6c8188965c5a65db210f78205d"
   },
   "source": [
    "**We can See that Gender Does'nt Play an important Role in Predicting Our Target Variable.**"
   ]
  },
  {
   "cell_type": "code",
   "execution_count": null,
   "metadata": {
    "_uuid": "2b32e3e3b7af95e69c68f1e8ae0fbb6843bc0aa4"
   },
   "outputs": [],
   "source": [
    "# Contract Vs Churn\n",
    "print(pd.crosstab(df.Contract,df.Churn,margins=True))\n",
    "pd.crosstab(df.Contract,df.Churn,margins=True).plot(kind='bar',figsize=(7,5));"
   ]
  },
  {
   "cell_type": "code",
   "execution_count": null,
   "metadata": {
    "_uuid": "ec258e163902ef2782b0b2d8ad1c909632638403"
   },
   "outputs": [],
   "source": [
    "print('Percent of Month-to-Month Contract People that Left the Company {0}'.format((1655/1869)*100))\n",
    "print('Percent of One-Year Contract People that Left the Company {0}'.format((166/1869)*100)) \n",
    "print('Percent of Two-Year Contract People that Left the Company {0}'.format((48/1869)*100))     "
   ]
  },
  {
   "cell_type": "code",
   "execution_count": null,
   "metadata": {},
   "outputs": [],
   "source": [
    "# Comment your analysis here-\n",
    "\n",
    "\n"
   ]
  },
  {
   "cell_type": "markdown",
   "metadata": {
    "_uuid": "79bde1f8c53a10f267c4f8d96410c7b43a51b35d"
   },
   "source": [
    "**Most of the People that Left were the Ones who had Month-to-Month  Contract.**"
   ]
  },
  {
   "cell_type": "code",
   "execution_count": null,
   "metadata": {
    "_uuid": "d70768459cccd268e0ad1022d2852fffd5d15933"
   },
   "outputs": [],
   "source": [
    "# Internet Service Vs Churn Write code\n",
    "\n",
    "\n"
   ]
  },
  {
   "cell_type": "code",
   "execution_count": null,
   "metadata": {
    "_uuid": "9ed9d53af09531a0df22cc0f8e6ff4a5e353556b"
   },
   "outputs": [],
   "source": [
    "print('Percent of DSL Internet-Service People that Left the Company {0}'.format((459/1869)*100))\n",
    "print('Percent of Fiber Optic Internet-Service People that Left the Company {0}'.format((1297/1869)*100)) \n",
    "print('Percent of No Internet-Service People that Left the Company {0}'.format((113/1869)*100))     "
   ]
  },
  {
   "cell_type": "code",
   "execution_count": null,
   "metadata": {},
   "outputs": [],
   "source": [
    "# Comment your analysis here-\n",
    "\n",
    "\n"
   ]
  },
  {
   "cell_type": "markdown",
   "metadata": {
    "_uuid": "f1e62a47068d214c13259fa88fbb9b524550eb1d"
   },
   "source": [
    "**Most of the people That Left had Fiber Optic Internet-Service.**"
   ]
  },
  {
   "cell_type": "code",
   "execution_count": null,
   "metadata": {
    "_uuid": "2e6768e6a15840c91e4861184b90d745600959ca"
   },
   "outputs": [],
   "source": [
    "# Tenure Median Vs Churn - write code\n",
    "\n"
   ]
  },
  {
   "cell_type": "code",
   "execution_count": null,
   "metadata": {},
   "outputs": [],
   "source": [
    "# Comment your analysis here-\n",
    "\n",
    "\n"
   ]
  },
  {
   "cell_type": "code",
   "execution_count": null,
   "metadata": {
    "_uuid": "42ff06997ed596abb60104c762789802f6fb663b"
   },
   "outputs": [],
   "source": [
    "# Partner Vs Dependents\n",
    "print(pd.crosstab(df.Partner,df.Dependents,margins=True))\n",
    "pd.crosstab(df.Partner,df.Dependents,margins=True).plot(kind='bar',figsize=(5,5));"
   ]
  },
  {
   "cell_type": "code",
   "execution_count": null,
   "metadata": {
    "_uuid": "6a4d55cbfe798ba5d91db5f468d86b71c3987031"
   },
   "outputs": [],
   "source": [
    "print('Percent of Partner that had Dependents {0}'.format((1749/2110)*100))\n",
    "print('Percent of Non-Partner that had Dependents {0}'.format((361/2110)*100))     "
   ]
  },
  {
   "cell_type": "code",
   "execution_count": null,
   "metadata": {},
   "outputs": [],
   "source": [
    "# Comment your analysis here-\n",
    "\n",
    "\n"
   ]
  },
  {
   "cell_type": "markdown",
   "metadata": {
    "_uuid": "062bf3edb246f93a41075fa64fdc7ea12a59a9c7"
   },
   "source": [
    "**We can See Partners had a much larger percent of Dependents than Non-Partner this tells us that Most Partners might be Married.**"
   ]
  },
  {
   "cell_type": "code",
   "execution_count": null,
   "metadata": {
    "_uuid": "84380a3c8bdc4844c6980e50099c170c97cc7627"
   },
   "outputs": [],
   "source": [
    "# Partner Vs Churn\n",
    "print(pd.crosstab(df.Partner,df.Churn,margins=True))\n",
    "pd.crosstab(df.Partner,df.Churn,margins=True).plot(kind='bar',figsize=(5,5));"
   ]
  },
  {
   "cell_type": "code",
   "execution_count": null,
   "metadata": {
    "_uuid": "25b7f3d64ae2d71bce9095789e1cdf4588f01b3a"
   },
   "outputs": [],
   "source": [
    "plt.figure(figsize=(17,8))\n",
    "sns.countplot(x=df['tenure'],hue=df.Partner);"
   ]
  },
  {
   "cell_type": "code",
   "execution_count": null,
   "metadata": {},
   "outputs": [],
   "source": [
    "# Comment your analysis here-\n",
    "\n",
    "\n"
   ]
  },
  {
   "cell_type": "markdown",
   "metadata": {
    "_uuid": "12721970bf1d9b8637bc16acd838d79e35cb8b4b"
   },
   "source": [
    "**Most of the People that Were Partner will Stay Longer with The Company. So Being a Partner is a Plus-Point For the Company as they will Stay Longer with Them.**"
   ]
  },
  {
   "cell_type": "code",
   "execution_count": null,
   "metadata": {
    "_uuid": "575a6b2dcb5ff24ec812dbdb68264a6df863a6a8"
   },
   "outputs": [],
   "source": [
    "# Partner Vs Churn\n",
    "print(pd.crosstab(df.Partner,df.Churn,margins=True))\n",
    "pd.crosstab(df.Partner,df.Churn,normalize=True).plot(kind='bar')"
   ]
  },
  {
   "cell_type": "code",
   "execution_count": null,
   "metadata": {
    "_uuid": "40c483a0ef0a05b5637e493d92cce099b1f84eb5"
   },
   "outputs": [],
   "source": [
    "# Senior Citizen Vs Churn\n",
    "print(pd.crosstab(df.SeniorCitizen,df.Churn,margins=True))\n",
    "pd.crosstab(df.SeniorCitizen,df.Churn,normalize=True).plot(kind='bar')"
   ]
  },
  {
   "cell_type": "code",
   "execution_count": null,
   "metadata": {},
   "outputs": [],
   "source": [
    "# Comment your analysis here-\n",
    "\n",
    "\n"
   ]
  },
  {
   "cell_type": "markdown",
   "metadata": {
    "_uuid": "7261ad950d77055340eb4b4488a99a8aea4e16da"
   },
   "source": [
    "**Let's Check for Outliers in Monthly Charges And Total Charges Using Box Plots**"
   ]
  },
  {
   "cell_type": "code",
   "execution_count": null,
   "metadata": {
    "_uuid": "2eb7c0a3c18c53ce06098300db50ef064a43e034"
   },
   "outputs": [],
   "source": [
    "df.boxplot('MonthlyCharges');"
   ]
  },
  {
   "cell_type": "code",
   "execution_count": null,
   "metadata": {
    "_uuid": "4c7733a36ff286dadfa6b4a270370b9e97b8da12"
   },
   "outputs": [],
   "source": [
    "df.boxplot('TotalCharges');"
   ]
  },
  {
   "cell_type": "markdown",
   "metadata": {
    "_uuid": "c5aff1f2d238b7456bb2648d00b84199c93c79dd"
   },
   "source": [
    "**Both Monthly Charges and Total Charges don't have any Outliers so we don't have to Get into Extracting Information from Outliers.**"
   ]
  },
  {
   "cell_type": "code",
   "execution_count": null,
   "metadata": {
    "_uuid": "41ba96b8b93d88ebfcfbc500f0d5fd6297d231e8"
   },
   "outputs": [],
   "source": [
    "df.describe()"
   ]
  },
  {
   "cell_type": "code",
   "execution_count": null,
   "metadata": {},
   "outputs": [],
   "source": [
    "# Comment your analysis here-\n",
    "\n",
    "\n"
   ]
  },
  {
   "cell_type": "markdown",
   "metadata": {
    "_uuid": "88fe0d56d7b227ad66d4e5785406e65a9a523dfd"
   },
   "source": [
    "# Correlation Matrix"
   ]
  },
  {
   "cell_type": "code",
   "execution_count": null,
   "metadata": {
    "_uuid": "06b1960178de11ff3007f7e2f04dba5ed326e031"
   },
   "outputs": [],
   "source": [
    "# Let's Check the Correaltion Matrix in Seaborn - write code\n",
    "\n"
   ]
  },
  {
   "cell_type": "code",
   "execution_count": null,
   "metadata": {},
   "outputs": [],
   "source": [
    "# Comment your analysis here-\n",
    "\n",
    "\n"
   ]
  },
  {
   "cell_type": "markdown",
   "metadata": {
    "_uuid": "8ae6e33d5791c914dc0b861570822878fa3992a6"
   },
   "source": [
    "**Here We can See Tenure and Total Charges are correlated and also Monthly charges and Total Charges are also correlated with each other. So this is proving our first Hypothesis right of Considering Total charges = Monthly charges * Tenure + Additional Tax that We had Taken Above.\n",
    "**"
   ]
  },
  {
   "cell_type": "markdown",
   "metadata": {
    "_uuid": "a043558b534c7bcc5ec231e140ee296b04ac936f"
   },
   "source": [
    "# Data Munging Process"
   ]
  },
  {
   "cell_type": "code",
   "execution_count": null,
   "metadata": {
    "_uuid": "b68ea30885895b63a74c9ec026e06839d601cf36"
   },
   "outputs": [],
   "source": [
    "# Checking For NULL - write code\n",
    "\n"
   ]
  },
  {
   "cell_type": "markdown",
   "metadata": {
    "_uuid": "2aab0d2b63f99b085a2bfc239ed6caa81957887b"
   },
   "source": [
    "**We can See here that We have 11 Null Values in Total Charges so  let's try to fill them..**"
   ]
  },
  {
   "cell_type": "code",
   "execution_count": null,
   "metadata": {
    "_uuid": "aa57c08dc1230bf034152756359fe5688658bbf9"
   },
   "outputs": [],
   "source": [
    "df.head(15)"
   ]
  },
  {
   "cell_type": "code",
   "execution_count": null,
   "metadata": {
    "_uuid": "af96e02609f6da524a767b9b77f655c65abbf970"
   },
   "outputs": [],
   "source": [
    "fill = df.MonthlyCharges * df.tenure"
   ]
  },
  {
   "cell_type": "code",
   "execution_count": null,
   "metadata": {
    "_uuid": "7396f348a0b7ded331b2e9d64cf61593dc098baa"
   },
   "outputs": [],
   "source": [
    "df.TotalCharges.fillna(fill,inplace=True)"
   ]
  },
  {
   "cell_type": "code",
   "execution_count": null,
   "metadata": {
    "_uuid": "0d5b11e1bf6879d10eddf373755fd13b98560818"
   },
   "outputs": [],
   "source": [
    "df.isnull().sum()"
   ]
  },
  {
   "cell_type": "markdown",
   "metadata": {
    "_uuid": "23f7623919adfe15c639a545ce0f6ce1c9934b3b"
   },
   "source": [
    "**No Null Values are there Now..**"
   ]
  },
  {
   "cell_type": "markdown",
   "metadata": {
    "_uuid": "1872884ab88f7b9b290c5bab41ab96ac2ca0e3e2"
   },
   "source": [
    "# When Churn = 'Yes'"
   ]
  },
  {
   "cell_type": "code",
   "execution_count": null,
   "metadata": {
    "_uuid": "b0c455ac1385df2026e7e72cd70a6b48a8d00d8f"
   },
   "outputs": [],
   "source": [
    "# write code for calculating median MonthlyCharges for churn ==Yes\n",
    "\n"
   ]
  },
  {
   "cell_type": "code",
   "execution_count": null,
   "metadata": {
    "_uuid": "871b6ea83e5e980bd112daa95f35fc6bb2dce651"
   },
   "outputs": [],
   "source": [
    "# write code for calculating median TotalCharges for churn ==Yes\n",
    "\n"
   ]
  },
  {
   "cell_type": "code",
   "execution_count": null,
   "metadata": {
    "_uuid": "46bb1af84ded9f2143cc0cff68da147e43fe0b58"
   },
   "outputs": [],
   "source": [
    "# write code for calculating median tenure for churn ==Yes\n"
   ]
  },
  {
   "cell_type": "code",
   "execution_count": null,
   "metadata": {
    "_uuid": "b3c0bef032657bce709d7bd644bbfd2e97ce3cef"
   },
   "outputs": [],
   "source": [
    "df.loc[(df.Churn == 'Yes'),'PaymentMethod'].value_counts(normalize = True)"
   ]
  },
  {
   "cell_type": "markdown",
   "metadata": {
    "_uuid": "f0c4a1bfc0b2c386e7a4cf3e488a9cff45e808b2"
   },
   "source": [
    "**Most of the People that Left are the Ones who had Payment Method as Electronic Check so Let's Make a Seperate Variable for it so that The Model can Easily Predict our Target Variable.**"
   ]
  },
  {
   "cell_type": "code",
   "execution_count": null,
   "metadata": {
    "_uuid": "ec531e781ed9eddeaaf0df076028bc815c870baf"
   },
   "outputs": [],
   "source": [
    "df['Is_Electronic_check'] = np.where(df['PaymentMethod'] == 'Electronic check',1,0)"
   ]
  },
  {
   "cell_type": "code",
   "execution_count": null,
   "metadata": {
    "_uuid": "39f7840e156e218bfd5664f2ef4f6e6a7f980370"
   },
   "outputs": [],
   "source": [
    "df.loc[(df.Churn == 'Yes'),'PaperlessBilling'].value_counts(normalize = True)"
   ]
  },
  {
   "cell_type": "code",
   "execution_count": null,
   "metadata": {
    "_uuid": "2208a0fdfcfe073fff3babcc4fdf632d03f85eb9"
   },
   "outputs": [],
   "source": [
    "df.loc[(df.Churn == 'Yes'),'DeviceProtection'].value_counts(normalize = True)"
   ]
  },
  {
   "cell_type": "code",
   "execution_count": null,
   "metadata": {
    "_uuid": "67d9750486e8f62d1edc0f19256957b198e4c6d1"
   },
   "outputs": [],
   "source": [
    "df.loc[(df.Churn == 'Yes'),'OnlineBackup'].value_counts(normalize = True)"
   ]
  },
  {
   "cell_type": "code",
   "execution_count": null,
   "metadata": {
    "_uuid": "1f23fd2f77fdbf6fa19116911e753531b70d7b98"
   },
   "outputs": [],
   "source": [
    "df.loc[(df.Churn == 'Yes'),'TechSupport'].value_counts(normalize = True)"
   ]
  },
  {
   "cell_type": "code",
   "execution_count": null,
   "metadata": {
    "_uuid": "2b832b4f6204327fc1f25487924a3f3de1b60f5a"
   },
   "outputs": [],
   "source": [
    "df.loc[(df.Churn == 'Yes'),'OnlineSecurity'].value_counts(normalize = True)"
   ]
  },
  {
   "cell_type": "markdown",
   "metadata": {
    "_uuid": "13593722d0ff872d22bb3a6adb70f8405f5b60b5"
   },
   "source": [
    "**We can See that People That Left the Company did'nt use Services Like Online Security , Device Protection , Tech Support and Online Backup quite often. Hence for Our Prediction these variables will not be of much Importance. We will Drop them in the End.**"
   ]
  },
  {
   "cell_type": "code",
   "execution_count": null,
   "metadata": {
    "_uuid": "66ba6a18572a1f598e17291d73e4d36db3cdef86"
   },
   "outputs": [],
   "source": [
    "df= pd.get_dummies(df,columns=['Partner','Dependents',\n",
    "       'PhoneService', 'MultipleLines','StreamingTV',\n",
    "       'StreamingMovies','Contract','PaperlessBilling','InternetService'],drop_first=True)"
   ]
  },
  {
   "cell_type": "markdown",
   "metadata": {
    "_uuid": "2d68777dd74d25dc8654827ec204e4f9451b2d36"
   },
   "source": [
    "**We have Encoded the Categorical Variables with Numeric using get dummies Property which will make it easy for the Machine to Make Correct Prediction.**"
   ]
  },
  {
   "cell_type": "code",
   "execution_count": null,
   "metadata": {
    "_uuid": "88b31da343d62aa0759d24eb3b81b75357d615b2"
   },
   "outputs": [],
   "source": [
    "df.info()"
   ]
  },
  {
   "cell_type": "markdown",
   "metadata": {
    "_uuid": "3945a86834d3291cd79e39b27b13ac819b14e392"
   },
   "source": [
    "**Now Let's Drop the variables that are not Important For us according to our Analysis.**"
   ]
  },
  {
   "cell_type": "code",
   "execution_count": null,
   "metadata": {
    "_uuid": "6c61eb061c713c00b59477e536c1d092f541ab63"
   },
   "outputs": [],
   "source": [
    "# Write code to drop 'StreamingTV_No internet service','StreamingMovies_No internet service'\n",
    "\n",
    "\n"
   ]
  },
  {
   "cell_type": "code",
   "execution_count": null,
   "metadata": {
    "_uuid": "6fcec36f186cecd2dca1a6e339fb8718403d49b6"
   },
   "outputs": [],
   "source": [
    "# write code to drop gender\n",
    "\n"
   ]
  },
  {
   "cell_type": "code",
   "execution_count": null,
   "metadata": {
    "_uuid": "4a4cc218484ebbb431d69f0f1d61a561ae6b573b"
   },
   "outputs": [],
   "source": [
    "# write code to drop tenure and MonthlyCharges\n",
    "\n"
   ]
  },
  {
   "cell_type": "code",
   "execution_count": null,
   "metadata": {
    "_uuid": "752f57a54c8ae382c14450c2e5dbfde068413c7c"
   },
   "outputs": [],
   "source": [
    "# write code to drop 'OnlineSecurity','OnlineBackup','DeviceProtection','TechSupport','PaymentMethod'\n",
    "\n"
   ]
  },
  {
   "cell_type": "markdown",
   "metadata": {
    "_uuid": "ef604daf50a828907bbb43a899503f87e3f32805"
   },
   "source": [
    "**Let's Convert Our Target Variable 'Churn' for Yes or No to 1 or 0. **"
   ]
  },
  {
   "cell_type": "code",
   "execution_count": null,
   "metadata": {
    "_uuid": "eefc7d32d8067dced7ed93ad55fb2a20662403a9"
   },
   "outputs": [],
   "source": [
    "# write code to convert the target into 1 for yes and 0 for No\n",
    "\n"
   ]
  },
  {
   "cell_type": "code",
   "execution_count": null,
   "metadata": {
    "_uuid": "a9005e0eeb63474d981b18bbbe763382ae464eba"
   },
   "outputs": [],
   "source": [
    "df.info()"
   ]
  },
  {
   "cell_type": "markdown",
   "metadata": {
    "_uuid": "ce5e2e0e427d357b64855ff74277065052e423ef"
   },
   "source": [
    "**Now We have only 16 variables that we think are important for Our Prediction. So let's Start our Modelling Part.**"
   ]
  },
  {
   "cell_type": "markdown",
   "metadata": {
    "_uuid": "e67450b7a90b1696a801204b75731ce5f299bdbb"
   },
   "source": [
    "# Modelling Part"
   ]
  },
  {
   "cell_type": "code",
   "execution_count": null,
   "metadata": {
    "_uuid": "e151b2c9f1600d6a66a6984d81bdc443e4237e22"
   },
   "outputs": [],
   "source": [
    "# write code to separatly have x and y, y as target\n",
    "\n",
    "X = \n",
    "y = "
   ]
  },
  {
   "cell_type": "code",
   "execution_count": null,
   "metadata": {
    "_uuid": "e3aae5acf36ab93c5033d653bec4eddd68a1d72f"
   },
   "outputs": [],
   "source": [
    "# train test split - 20% test data - write code\n",
    "\n",
    "\n",
    "# pritn shape of all generated variables\n",
    "\n",
    "\n"
   ]
  },
  {
   "cell_type": "markdown",
   "metadata": {
    "_uuid": "fe02c2a81ff08c648e76232f6a89e7ed5712ac8f"
   },
   "source": [
    "**Let's start with Logistic Regression Model because we know Our Target Variable has a Binary Outcome.**"
   ]
  },
  {
   "cell_type": "code",
   "execution_count": null,
   "metadata": {
    "_uuid": "2ed2e148980102ce31cfc026abce1daf5c2ab610"
   },
   "outputs": [],
   "source": [
    "# Import Logistic Regression\n",
    "\n"
   ]
  },
  {
   "cell_type": "code",
   "execution_count": null,
   "metadata": {
    "_uuid": "d966f61422ca940b8020d0c587f0226cd476e49b"
   },
   "outputs": [],
   "source": [
    "# create model\n",
    "\n"
   ]
  },
  {
   "cell_type": "code",
   "execution_count": null,
   "metadata": {
    "_uuid": "9fc49a2eeda23f369d296f31ef8daa87b64a5c2a"
   },
   "outputs": [],
   "source": [
    "# train model\n",
    "\n"
   ]
  },
  {
   "cell_type": "code",
   "execution_count": null,
   "metadata": {
    "_uuid": "7b383c501fddb694315662215832f17fccca22cf"
   },
   "outputs": [],
   "source": [
    "from sklearn.metrics import accuracy_score, confusion_matrix, precision_score, recall_score,classification_report"
   ]
  },
  {
   "cell_type": "code",
   "execution_count": null,
   "metadata": {
    "_uuid": "fc3e11b005e4eed0b236e3d6fae50b28d3c1729f"
   },
   "outputs": [],
   "source": [
    "# performance metrics\n",
    "# accuracy\n",
    "print ('accuracy for logistic regression - version 1 : {0:.2f}'.format(accuracy_score(y_test, model_lr_1.predict(X_test))))\n",
    "# confusion matrix\n",
    "print ('confusion matrix for logistic regression - version 1: \\n {0}'.format(confusion_matrix(y_test, model_lr_1.predict(X_test))))\n",
    "# precision \n",
    "print ('precision for logistic regression - version 1 : {0:.2f}'.format(precision_score(y_test, model_lr_1.predict(X_test))))\n",
    "# precision \n",
    "print ('recall for logistic regression - version 1 : {0:.2f}'.format(recall_score(y_test, model_lr_1.predict(X_test))))"
   ]
  },
  {
   "cell_type": "markdown",
   "metadata": {},
   "source": [
    "code further to improve the results, comment on performance of the model"
   ]
  },
  {
   "cell_type": "code",
   "execution_count": null,
   "metadata": {},
   "outputs": [],
   "source": []
  }
 ],
 "metadata": {
  "kernelspec": {
   "display_name": "Python 3",
   "language": "python",
   "name": "python3"
  },
  "language_info": {
   "codemirror_mode": {
    "name": "ipython",
    "version": 3
   },
   "file_extension": ".py",
   "mimetype": "text/x-python",
   "name": "python",
   "nbconvert_exporter": "python",
   "pygments_lexer": "ipython3",
   "version": "3.6.7"
  }
 },
 "nbformat": 4,
 "nbformat_minor": 1
}
