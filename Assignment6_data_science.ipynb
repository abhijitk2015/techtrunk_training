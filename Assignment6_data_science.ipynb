{
 "cells": [
  {
   "cell_type": "markdown",
   "metadata": {},
   "source": [
    "# Excercise\n",
    "\tDownload the California Housing Dataset from \n",
    "https://storage.googleapis.com/mledu-datasets/california_housing_train.csv\n",
    "\t\n",
    "- Perform exploratory analysis on data, Based on statistical analysis, perform graphical analysis to well communicate your result. Minimum 6 graphs to be drawn and supported with statistical outcomes and real world logic and explained with minimum 100 words each. \n",
    "- Randomize the data, just to be sure not to get any pathological ordering effects that might harm the performance of Stochastic Gradient Descent.\n",
    "-\tscale median_house_value to be in units of thousands, so it can be learned a little more easily with learning rates in a range that we usually use.\n",
    "-\tUsing total_rooms as our input feature, build a linear regression model to predict median_house_value.\n",
    "-\tUse all important features based on statistical analysis to build a regression model.\n",
    "-\tTweak the hyperparameters of the model to achieve the RMSE of 180 or below.\n"
   ]
  },
  {
   "cell_type": "code",
   "execution_count": null,
   "metadata": {},
   "outputs": [],
   "source": []
  },
  {
   "cell_type": "code",
   "execution_count": null,
   "metadata": {},
   "outputs": [],
   "source": []
  },
  {
   "cell_type": "code",
   "execution_count": null,
   "metadata": {},
   "outputs": [],
   "source": []
  },
  {
   "cell_type": "code",
   "execution_count": null,
   "metadata": {},
   "outputs": [],
   "source": []
  },
  {
   "cell_type": "code",
   "execution_count": null,
   "metadata": {},
   "outputs": [],
   "source": []
  },
  {
   "cell_type": "code",
   "execution_count": null,
   "metadata": {},
   "outputs": [],
   "source": []
  },
  {
   "cell_type": "markdown",
   "metadata": {},
   "source": [
    "###### some awesome work on this dataset\n",
    "https://www.kaggle.com/camnugent/geospatial-feature-engineering-and-visualization\n",
    "    \n",
    "    \n",
    "https://www.kaggle.com/manisood001/california-housing-optimised-modelling\n",
    "\n",
    "\n",
    "https://www.kaggle.com/paultimothymooney/predict-california-housing-prices-with-tensorflow\n",
    "\n",
    "https://www.kaggle.com/pranavpandey2511/california-house-prices"
   ]
  },
  {
   "cell_type": "code",
   "execution_count": null,
   "metadata": {},
   "outputs": [],
   "source": []
  }
 ],
 "metadata": {
  "kernelspec": {
   "display_name": "Python 3",
   "language": "python",
   "name": "python3"
  },
  "language_info": {
   "codemirror_mode": {
    "name": "ipython",
    "version": 3
   },
   "file_extension": ".py",
   "mimetype": "text/x-python",
   "name": "python",
   "nbconvert_exporter": "python",
   "pygments_lexer": "ipython3",
   "version": "3.6.7"
  }
 },
 "nbformat": 4,
 "nbformat_minor": 2
}
